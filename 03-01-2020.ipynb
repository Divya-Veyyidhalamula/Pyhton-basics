{
 "cells": [
  {
   "cell_type": "markdown",
   "metadata": {},
   "source": [
    "# Functions and its types :"
   ]
  },
  {
   "cell_type": "markdown",
   "metadata": {},
   "source": [
    "# what is a functions\n",
    "### POSITION,DEFAULT VALUE,KEYWORD,VARIABLE LENGTH\n",
    "#### SYNTAX\n",
    "    def fun(name,age): \n",
    "        #statements\n",
    "        ...\n",
    "        ...\n",
    "        ...\n",
    "        return value\n",
    "    ->fun(25,'hello') //not work\n",
    "    ->fun('hello',34)//works because of correct position\n",
    "### For default\n",
    "    def fun(name,age=32):// setting default age value\n",
    "        ,\n",
    "        ,\n",
    "        ,\n",
    "        return value\n",
    "    fun('hello') // 32 is taken by default\n",
    "### VARIABLE LENGTH\n",
    "    =>fun('hello',24,32,54) \n",
    "    ->1st arg (name) takes hello but 2nd arg (age) takes all the 3 values\n",
    "    ->these are called TUPLES : a set of values"
   ]
  },
  {
   "cell_type": "code",
   "execution_count": 7,
   "metadata": {},
   "outputs": [
    {
     "name": "stdout",
     "output_type": "stream",
     "text": [
      "ANits college\n"
     ]
    }
   ],
   "source": [
    "#without return value and argument\n",
    "def fun():\n",
    "    print(\"ANits college\")\n",
    "fun()"
   ]
  },
  {
   "cell_type": "code",
   "execution_count": 8,
   "metadata": {},
   "outputs": [
    {
     "name": "stdout",
     "output_type": "stream",
     "text": [
      "anits\n"
     ]
    }
   ],
   "source": [
    "#without return value and with argument\n",
    "def fun(a):\n",
    "    print(a)\n",
    "fun('anits')"
   ]
  },
  {
   "cell_type": "code",
   "execution_count": 9,
   "metadata": {},
   "outputs": [
    {
     "data": {
      "text/plain": [
       "'anits'"
      ]
     },
     "execution_count": 9,
     "metadata": {},
     "output_type": "execute_result"
    }
   ],
   "source": [
    "#with return value and argument\n",
    "def fun(a):\n",
    "    return a\n",
    "fun('anits')"
   ]
  },
  {
   "cell_type": "code",
   "execution_count": 10,
   "metadata": {},
   "outputs": [
    {
     "data": {
      "text/plain": [
       "'anits'"
      ]
     },
     "execution_count": 10,
     "metadata": {},
     "output_type": "execute_result"
    }
   ],
   "source": [
    "#with return value and without argument\n",
    "def fun():\n",
    "    a='anits'\n",
    "    return a\n",
    "fun()"
   ]
  },
  {
   "cell_type": "code",
   "execution_count": 9,
   "metadata": {},
   "outputs": [
    {
     "name": "stdout",
     "output_type": "stream",
     "text": [
      "false\n"
     ]
    }
   ],
   "source": [
    "#write a python code using args and return value to find LEAP YEAR\n",
    "def isLeapyear(y):\n",
    "    if(y%400==0) or (y%4==0 and y%100!=0):\n",
    "        #return True\n",
    "        print(\"true\")\n",
    "    #return False\n",
    "    print(\"false\")\n",
    "isLeapyear(1900)"
   ]
  },
  {
   "cell_type": "code",
   "execution_count": 12,
   "metadata": {},
   "outputs": [
    {
     "name": "stdout",
     "output_type": "stream",
     "text": [
      "1900\n",
      "false\n"
     ]
    },
    {
     "data": {
      "text/plain": [
       "31536000000000000"
      ]
     },
     "execution_count": 12,
     "metadata": {},
     "output_type": "execute_result"
    }
   ],
   "source": [
    "#print the nanoseconds of the year,consider leap year (366 days)\n",
    "'''def nanosec(yr):\n",
    "    if(yr%400==0) or (yr%4==0 and yr%100!=0):\n",
    "        x=366*24*60*60*1000*1000000\n",
    "        return x\n",
    "    else:\n",
    "        y=365*24*60*60*100*1000\n",
    "        return y\n",
    "nanosec(yr=int(input()))'''\n",
    "def nanosec(yr):\n",
    "    if(isLeapyear(yr)):\n",
    "        x=366*24*60*60*1000*1000000\n",
    "        return x\n",
    "    else:\n",
    "        y=365*24*60*60*1000*1000000\n",
    "        return y\n",
    "nanosec(yr=int(input()))"
   ]
  },
  {
   "cell_type": "code",
   "execution_count": 1,
   "metadata": {},
   "outputs": [
    {
     "name": "stdout",
     "output_type": "stream",
     "text": [
      "6\n"
     ]
    },
    {
     "data": {
      "text/plain": [
       "False"
      ]
     },
     "execution_count": 1,
     "metadata": {},
     "output_type": "execute_result"
    }
   ],
   "source": [
    "#print whether the given input is prime or not (input should be dyanamic)\n",
    "def isprime(n):\n",
    "    for i in range(2,n):\n",
    "        if n%i==0:\n",
    "            return False\n",
    "    return True\n",
    "isprime(n=int(input()))"
   ]
  },
  {
   "cell_type": "code",
   "execution_count": 12,
   "metadata": {},
   "outputs": [
    {
     "name": "stdout",
     "output_type": "stream",
     "text": [
      "30\n",
      "2 3 5 7 11 13 17 19 23 29 31 37 41 43 47 53 59 61 67 71 73 79 83 89 97 101 103 107 109 113 "
     ]
    }
   ],
   "source": [
    "#print prime numbers in the given range(input dynamic)\n",
    "def prime():\n",
    "    a=int(input())\n",
    "    l=0\n",
    "    y=2\n",
    "    while True:\n",
    "        if isprime(y):\n",
    "            print(y,end=\" \")\n",
    "            l+=1\n",
    "            if(l==a):\n",
    "                break\n",
    "        y+=1\n",
    "prime()"
   ]
  },
  {
   "cell_type": "markdown",
   "metadata": {},
   "source": [
    "# Regular Expressions : "
   ]
  },
  {
   "cell_type": "code",
   "execution_count": 2,
   "metadata": {},
   "outputs": [
    {
     "name": "stdout",
     "output_type": "stream",
     "text": [
      "9876543210\n",
      "valid number\n"
     ]
    }
   ],
   "source": [
    "#^[9][1][6-9][0-9]{9}$|^[6-9][0-9]{9}|^[0][6-9][0-9]{9}\n",
    "import re\n",
    "i=int(input())\n",
    "p='^[9][1][6-9][0-9]{9}$|^[6-9][0-9]{9}|^[0][6-9][0-9]{9}'\n",
    "if(re.match(p,str(i))):\n",
    "    print(\"valid number\")\n",
    "else:\n",
    "    print(\"invalid number\")"
   ]
  },
  {
   "cell_type": "code",
   "execution_count": 8,
   "metadata": {},
   "outputs": [
    {
     "name": "stdout",
     "output_type": "stream",
     "text": [
      "anits.edu.in\n",
      "invalid\n"
     ]
    }
   ],
   "source": [
    "#write the regex code for email verification\n",
    "import re\n",
    "i=str(input())\n",
    "p='^[a-z0-9]{1,}[@][a-z]{1,}[.][a-z]{1,}$'\n",
    "if(re.match(p,(i))):\n",
    "    print(\"valid\")\n",
    "else:\n",
    "    print(\"invalid\")"
   ]
  },
  {
   "cell_type": "code",
   "execution_count": 5,
   "metadata": {},
   "outputs": [
    {
     "name": "stdout",
     "output_type": "stream",
     "text": [
      "find\n"
     ]
    }
   ],
   "source": [
    "import re\n",
    "p=\"This is anits college.Python is the workshop\"\n",
    "if(re.search('Python',p)):\n",
    "    print('find')\n",
    "else:\n",
    "    print('not available')"
   ]
  },
  {
   "cell_type": "markdown",
   "metadata": {},
   "source": [
    "# Data Structures :\n",
    "    \n",
    " Similar to collections simply call it as iterators :\n",
    " \n",
    "   - List\n",
    "   - Tuple\n",
    "   - Set\n",
    "   - Dictionary"
   ]
  },
  {
   "cell_type": "markdown",
   "metadata": {},
   "source": [
    "## 1.Lists :\n",
    "\n",
    "    - Collections of heterogenous(Different)type of data elements.\n",
    "    - It can be defined as [] and can be typecasted by list() method.\n",
    "    - It can change the values, Slicing is done due to Index.\n",
    "    - Ordered Format of data because of index.\n",
    "    "
   ]
  },
  {
   "cell_type": "code",
   "execution_count": 9,
   "metadata": {},
   "outputs": [
    {
     "name": "stdout",
     "output_type": "stream",
     "text": [
      "['__add__', '__class__', '__contains__', '__delattr__', '__delitem__', '__dir__', '__doc__', '__eq__', '__format__', '__ge__', '__getattribute__', '__getitem__', '__gt__', '__hash__', '__iadd__', '__imul__', '__init__', '__init_subclass__', '__iter__', '__le__', '__len__', '__lt__', '__mul__', '__ne__', '__new__', '__reduce__', '__reduce_ex__', '__repr__', '__reversed__', '__rmul__', '__setattr__', '__setitem__', '__sizeof__', '__str__', '__subclasshook__', 'append', 'clear', 'copy', 'count', 'extend', 'index', 'insert', 'pop', 'remove', 'reverse', 'sort']\n"
     ]
    }
   ],
   "source": [
    "print(dir(list))"
   ]
  },
  {
   "cell_type": "code",
   "execution_count": 26,
   "metadata": {},
   "outputs": [
    {
     "name": "stdout",
     "output_type": "stream",
     "text": [
      "<class 'list'>\n",
      "12\n",
      "[6, 12, 1]\n",
      "[]\n",
      "[5, 6, 12]\n",
      "[1, 12, 6]\n",
      "[]\n",
      "[3, 1, 12]\n",
      "[]\n",
      "[]\n",
      "[6, 12, 1]\n"
     ]
    }
   ],
   "source": [
    "p=[2,5,6,12,1,3]\n",
    "print(type(p))\n",
    "print(p[3])\n",
    "print(p[2:5])\n",
    "print(p[1:4:-1])\n",
    "print(p[1:4:1])\n",
    "print(p[4:1:-1])\n",
    "print(p[4:1:1])\n",
    "print(p[-1:-4:-1])\n",
    "print(p[-1:-4:1])\n",
    "print(p[-4:-1:-1])\n",
    "print(p[-4:-1:1])"
   ]
  },
  {
   "cell_type": "code",
   "execution_count": 31,
   "metadata": {},
   "outputs": [
    {
     "name": "stdout",
     "output_type": "stream",
     "text": [
      "[1, 2, 532, 532.0, 687, '100']\n"
     ]
    }
   ],
   "source": [
    "p=[2,1,532,532.0,687]\n",
    "p.sort()\n",
    "p.append('100')\n",
    "print(p)"
   ]
  },
  {
   "cell_type": "code",
   "execution_count": 33,
   "metadata": {},
   "outputs": [
    {
     "name": "stdout",
     "output_type": "stream",
     "text": [
      "[1, 2, 532, 532.0, 687, '100']\n",
      "[1, 2, 532, 532.0, 687, '100', 32]\n",
      "[1, 2, 532, 532.0, 687, '100']\n"
     ]
    },
    {
     "ename": "TypeError",
     "evalue": "'NoneType' object is not iterable",
     "output_type": "error",
     "traceback": [
      "\u001b[0;31m---------------------------------------------------------------------------\u001b[0m",
      "\u001b[0;31mTypeError\u001b[0m                                 Traceback (most recent call last)",
      "\u001b[0;32m<ipython-input-33-14a153e95dfb>\u001b[0m in \u001b[0;36m<module>\u001b[0;34m\u001b[0m\n\u001b[1;32m      5\u001b[0m \u001b[0mprint\u001b[0m\u001b[0;34m(\u001b[0m\u001b[0mk\u001b[0m\u001b[0;34m)\u001b[0m\u001b[0;34m\u001b[0m\u001b[0;34m\u001b[0m\u001b[0m\n\u001b[1;32m      6\u001b[0m \u001b[0mp\u001b[0m\u001b[0;34m.\u001b[0m\u001b[0mcount\u001b[0m\u001b[0;34m(\u001b[0m\u001b[0;36m7\u001b[0m\u001b[0;34m)\u001b[0m\u001b[0;34m\u001b[0m\u001b[0;34m\u001b[0m\u001b[0m\n\u001b[0;32m----> 7\u001b[0;31m \u001b[0mc\u001b[0m\u001b[0;34m=\u001b[0m\u001b[0mlist\u001b[0m\u001b[0;34m(\u001b[0m\u001b[0mk\u001b[0m\u001b[0;34m.\u001b[0m\u001b[0mextend\u001b[0m\u001b[0;34m(\u001b[0m\u001b[0mp\u001b[0m\u001b[0;34m)\u001b[0m\u001b[0;34m)\u001b[0m\u001b[0;34m\u001b[0m\u001b[0;34m\u001b[0m\u001b[0m\n\u001b[0m\u001b[1;32m      8\u001b[0m \u001b[0mprint\u001b[0m\u001b[0;34m(\u001b[0m\u001b[0mc\u001b[0m\u001b[0;34m)\u001b[0m\u001b[0;34m\u001b[0m\u001b[0;34m\u001b[0m\u001b[0m\n\u001b[1;32m      9\u001b[0m \u001b[0mprint\u001b[0m\u001b[0;34m(\u001b[0m\u001b[0mp\u001b[0m\u001b[0;34m)\u001b[0m\u001b[0;34m\u001b[0m\u001b[0;34m\u001b[0m\u001b[0m\n",
      "\u001b[0;31mTypeError\u001b[0m: 'NoneType' object is not iterable"
     ]
    }
   ],
   "source": [
    "k=p.copy()\n",
    "print(k)\n",
    "p.append(int(32)) # takes only one argument\n",
    "print(p)\n",
    "print(k)\n",
    "p.count(7)\n",
    "c=list(k.extend(p))\n",
    "print(c)\n",
    "print(p)\n",
    "print(k)"
   ]
  },
  {
   "cell_type": "code",
   "execution_count": 35,
   "metadata": {},
   "outputs": [
    {
     "name": "stdout",
     "output_type": "stream",
     "text": [
      "[1, 2, 532, 532.0, 687, '100', 1, 2, 532, 532.0, 687, '100', 32, 1, 2, 532, 532.0, 687, '100', 32]\n",
      "[1, 2, 532, 532.0, 687, '100', 1, 2, 532, 532.0, 687, '100', 32]\n",
      "[1, 2, 532, 532.0, 687, '100', 32]\n",
      "2\n"
     ]
    },
    {
     "data": {
      "text/plain": [
       "1"
      ]
     },
     "execution_count": 35,
     "metadata": {},
     "output_type": "execute_result"
    }
   ],
   "source": [
    "c=k+p\n",
    "print(c)\n",
    "print(k)\n",
    "print(p)\n",
    "print(p.index(532.0))\n",
    "p.count(32)"
   ]
  },
  {
   "cell_type": "code",
   "execution_count": 52,
   "metadata": {},
   "outputs": [
    {
     "name": "stdout",
     "output_type": "stream",
     "text": [
      "[1, 43, 2, 532, 687, '100', 32, 32]\n"
     ]
    }
   ],
   "source": [
    "p.insert(1,43)# 1st argument is index and 2nd argument is number\n",
    "print(p)"
   ]
  },
  {
   "cell_type": "code",
   "execution_count": 55,
   "metadata": {},
   "outputs": [
    {
     "name": "stdout",
     "output_type": "stream",
     "text": [
      "[1, 2, 687, '100', 32, 32]\n"
     ]
    }
   ],
   "source": [
    "p.pop(2)# takes only one argument\n",
    "print(p)"
   ]
  },
  {
   "cell_type": "code",
   "execution_count": 61,
   "metadata": {},
   "outputs": [
    {
     "name": "stdout",
     "output_type": "stream",
     "text": [
      "[1, 87, 2, '100', 32]\n"
     ]
    }
   ],
   "source": [
    "p.remove(32)\n",
    "print(p)"
   ]
  },
  {
   "cell_type": "code",
   "execution_count": 62,
   "metadata": {},
   "outputs": [
    {
     "name": "stdout",
     "output_type": "stream",
     "text": [
      "[32, '100', 2, 87, 1]\n"
     ]
    }
   ],
   "source": [
    "p.reverse()\n",
    "print(p)"
   ]
  },
  {
   "cell_type": "code",
   "execution_count": 10,
   "metadata": {},
   "outputs": [
    {
     "name": "stdout",
     "output_type": "stream",
     "text": [
      "[100, 87, 32, 2, 1]\n"
     ]
    },
    {
     "data": {
      "text/plain": [
       "5"
      ]
     },
     "execution_count": 10,
     "metadata": {},
     "output_type": "execute_result"
    }
   ],
   "source": [
    "p=[32,100,2,87,1]\n",
    "p.sort(reverse=True)\n",
    "print(p)\n",
    "len(p)"
   ]
  },
  {
   "cell_type": "code",
   "execution_count": 9,
   "metadata": {},
   "outputs": [
    {
     "name": "stdout",
     "output_type": "stream",
     "text": [
      "[]\n"
     ]
    },
    {
     "data": {
      "text/plain": [
       "0"
      ]
     },
     "execution_count": 9,
     "metadata": {},
     "output_type": "execute_result"
    }
   ],
   "source": [
    "p.clear()# clears the elements in the list but not the list\n",
    "print(p)\n",
    "len(p)"
   ]
  },
  {
   "cell_type": "code",
   "execution_count": 14,
   "metadata": {},
   "outputs": [
    {
     "name": "stdout",
     "output_type": "stream",
     "text": [
      "23 23 453 768 324 'tejuu' 'lohi'\n",
      "[23, 23, 324, 453, 768]\n",
      "[\"'tejuu'\", \"'lohi'\"]\n"
     ]
    }
   ],
   "source": [
    "p=input().split()\n",
    "nol=[]\n",
    "stl=[]\n",
    "for i in p:                              #for j in range(len(i))\n",
    "    if (str(i).isdigit()):                   \n",
    "        #print(i,end=\" \")\n",
    "        nol.append(int(i))\n",
    "    else:\n",
    "        stl.append(i)\n",
    "nol.sort()\n",
    "print(nol)\n",
    "print(stl)"
   ]
  },
  {
   "cell_type": "markdown",
   "metadata": {},
   "source": [
    "## Tuple :\n",
    "\n",
    "        - Collection of heterogenous data type elements.\n",
    "        - It can be defined as () and typecasting as tuple().\n",
    "        - It can't change the values,Slicing can be done.\n",
    "        - Based on index the slicing is done and it is also ordered data."
   ]
  },
  {
   "cell_type": "code",
   "execution_count": 36,
   "metadata": {},
   "outputs": [
    {
     "name": "stdout",
     "output_type": "stream",
     "text": [
      "<class 'tuple'>\n",
      "34.15\n",
      "(34, 34.15, 'kiran')\n",
      "(23, 34, 34.15)\n"
     ]
    }
   ],
   "source": [
    "d=(23,34,34.15,'kiran')\n",
    "d\n",
    "print(type(d))\n",
    "print(d[2])\n",
    "print(d[1:5])\n",
    "print(d[0:3:1])"
   ]
  },
  {
   "cell_type": "code",
   "execution_count": 19,
   "metadata": {},
   "outputs": [
    {
     "name": "stdout",
     "output_type": "stream",
     "text": [
      "['__add__', '__class__', '__contains__', '__delattr__', '__dir__', '__doc__', '__eq__', '__format__', '__ge__', '__getattribute__', '__getitem__', '__getnewargs__', '__gt__', '__hash__', '__init__', '__init_subclass__', '__iter__', '__le__', '__len__', '__lt__', '__mul__', '__ne__', '__new__', '__reduce__', '__reduce_ex__', '__repr__', '__rmul__', '__setattr__', '__sizeof__', '__str__', '__subclasshook__', 'count', 'index']\n"
     ]
    }
   ],
   "source": [
    "print(dir(tuple))"
   ]
  },
  {
   "cell_type": "code",
   "execution_count": 37,
   "metadata": {
    "scrolled": true
   },
   "outputs": [
    {
     "name": "stdout",
     "output_type": "stream",
     "text": [
      "1\n",
      "2\n"
     ]
    }
   ],
   "source": [
    "print(d.count(34))\n",
    "print(d.index(34.15))"
   ]
  },
  {
   "cell_type": "markdown",
   "metadata": {},
   "source": [
    "# Sets :\n",
    "\n",
    "    - Collection of heterogenous data elements.\n",
    "    - It can be defined as {} and type case as set().\n",
    "    - It can change the value but it doesn't supports the slicing.\n",
    "    - Unordered Format data,index is not available.\n",
    "    - Removes duplicate elements."
   ]
  },
  {
   "cell_type": "code",
   "execution_count": 7,
   "metadata": {},
   "outputs": [
    {
     "name": "stdout",
     "output_type": "stream",
     "text": [
      "{34, 3, 34.465, 23, 'rajesh', 'somu'}\n"
     ]
    }
   ],
   "source": [
    "g={34,3,3,3,34,34.465,'rajesh',23,'somu',3}\n",
    "#g\n",
    "print(g)"
   ]
  },
  {
   "cell_type": "code",
   "execution_count": 8,
   "metadata": {},
   "outputs": [
    {
     "name": "stdout",
     "output_type": "stream",
     "text": [
      "['__and__', '__class__', '__contains__', '__delattr__', '__dir__', '__doc__', '__eq__', '__format__', '__ge__', '__getattribute__', '__gt__', '__hash__', '__iand__', '__init__', '__init_subclass__', '__ior__', '__isub__', '__iter__', '__ixor__', '__le__', '__len__', '__lt__', '__ne__', '__new__', '__or__', '__rand__', '__reduce__', '__reduce_ex__', '__repr__', '__ror__', '__rsub__', '__rxor__', '__setattr__', '__sizeof__', '__str__', '__sub__', '__subclasshook__', '__xor__', 'add', 'clear', 'copy', 'difference', 'difference_update', 'discard', 'intersection', 'intersection_update', 'isdisjoint', 'issubset', 'issuperset', 'pop', 'remove', 'symmetric_difference', 'symmetric_difference_update', 'union', 'update']\n"
     ]
    }
   ],
   "source": [
    "print(dir(set))"
   ]
  },
  {
   "cell_type": "code",
   "execution_count": 9,
   "metadata": {},
   "outputs": [
    {
     "name": "stdout",
     "output_type": "stream",
     "text": [
      "{34, 3, 34.465, 556, 23, 'rajesh', 'somu'}\n"
     ]
    }
   ],
   "source": [
    "g.add(556)\n",
    "print(g)"
   ]
  },
  {
   "cell_type": "code",
   "execution_count": 10,
   "metadata": {},
   "outputs": [
    {
     "name": "stdout",
     "output_type": "stream",
     "text": [
      "{34, 3, 34.465, 23, 'rajesh', 556, 'somu'}\n"
     ]
    }
   ],
   "source": [
    "f=g.copy()\n",
    "print(f)"
   ]
  },
  {
   "cell_type": "code",
   "execution_count": 1,
   "metadata": {},
   "outputs": [
    {
     "name": "stdout",
     "output_type": "stream",
     "text": [
      "['__class__', '__contains__', '__delattr__', '__delitem__', '__dir__', '__doc__', '__eq__', '__format__', '__ge__', '__getattribute__', '__getitem__', '__gt__', '__hash__', '__init__', '__init_subclass__', '__iter__', '__le__', '__len__', '__lt__', '__ne__', '__new__', '__reduce__', '__reduce_ex__', '__repr__', '__setattr__', '__setitem__', '__sizeof__', '__str__', '__subclasshook__', 'clear', 'copy', 'fromkeys', 'get', 'items', 'keys', 'pop', 'popitem', 'setdefault', 'update', 'values']\n"
     ]
    }
   ],
   "source": [
    "print(dir(dict))"
   ]
  },
  {
   "cell_type": "code",
   "execution_count": null,
   "metadata": {},
   "outputs": [],
   "source": []
  }
 ],
 "metadata": {
  "kernelspec": {
   "display_name": "Python 3",
   "language": "python",
   "name": "python3"
  },
  "language_info": {
   "codemirror_mode": {
    "name": "ipython",
    "version": 3
   },
   "file_extension": ".py",
   "mimetype": "text/x-python",
   "name": "python",
   "nbconvert_exporter": "python",
   "pygments_lexer": "ipython3",
   "version": "3.7.4"
  }
 },
 "nbformat": 4,
 "nbformat_minor": 2
}
