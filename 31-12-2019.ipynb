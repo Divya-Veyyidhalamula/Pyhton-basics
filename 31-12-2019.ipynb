{
 "cells": [
  {
   "cell_type": "markdown",
   "metadata": {},
   "source": [
    "# operators"
   ]
  },
  {
   "cell_type": "markdown",
   "metadata": {},
   "source": [
    "- Arithmatic Operators - +,-,*,/,%,//\n",
    "- Logical Operators - AND,OR,NOT\n",
    "- Relational Operators - <=,>=,==,!=\n",
    "- Bitwise Operators - >>,<<,^,~,&,|\n",
    "- Assignment Operators - +=,-=,*=,/=,%=\n",
    "- Membership Operator - in, not in\n",
    "- Identity Operator - is, is not"
   ]
  },
  {
   "cell_type": "code",
   "execution_count": 45,
   "metadata": {},
   "outputs": [
    {
     "name": "stdout",
     "output_type": "stream",
     "text": [
      "Input : \n",
      "5\n",
      "3\n",
      "Output :\n",
      "  addition of 5 and 3 : 8\n",
      "  subtraction of 5 and 3 : 2\n",
      "  multiplication of 5 and 3 : 15\n",
      "  division of 5 and 3 : 1.6666666666666667\n",
      "  power of 5 and 3 : 125\n",
      "  modulus of 5 and 3 : 2\n",
      "  Bitwise AND of 5 and 3 : 1\n",
      "  Bitwise OR of 5 and 3 : 7\n"
     ]
    },
    {
     "data": {
      "text/plain": [
       "20"
      ]
     },
     "execution_count": 45,
     "metadata": {},
     "output_type": "execute_result"
    }
   ],
   "source": [
    "print(\"Input : \")\n",
    "a=int(input())\n",
    "b=int(input())\n",
    "print(\"Output :\")\n",
    "print(\"  addition of\",a ,\"and\" ,b ,\":\" ,a+b)\n",
    "print(\"  subtraction of %d and %d : %d\"%(a,b,a-b))\n",
    "print(\"  multiplication of {} and {} : {}\".format(a,b,a*b))\n",
    "print(\"  division of {} and {} : {}\".format(a,b,a/b))\n",
    "print(\"  power of {} and {} : {}\".format(a,b,a**b))\n",
    "print(\"  modulus of {} and {} : {}\".format(a,b,a%b))\n",
    "print(\"  Bitwise AND of {} and {} : {}\".format(a,b,a&b))\n",
    "print(\"  Bitwise OR of {} and {} : {}\".format(a,b,a|b))\n",
    "a<<2"
   ]
  },
  {
   "cell_type": "code",
   "execution_count": 52,
   "metadata": {},
   "outputs": [
    {
     "data": {
      "text/plain": [
       "-21"
      ]
     },
     "execution_count": 52,
     "metadata": {},
     "output_type": "execute_result"
    }
   ],
   "source": [
    "j=20\n",
    "~j\n"
   ]
  },
  {
   "cell_type": "markdown",
   "metadata": {},
   "source": [
    "# Conditional Statements :\n",
    "    - To check whether the given condition is either True or False\n",
    "    \n",
    "    - if -> single case statement\n",
    "      SYNTAX : \n",
    "          if(condition):\n",
    "              //statements\n",
    "    - if else -> two cases\n",
    "      SYNTAX :\n",
    "          if(condition):\n",
    "            //statements\n",
    "          else :\n",
    "              // statements\n",
    "    - nested if -> two or more\n",
    "      SYNTAX :\n",
    "          if(conditon):\n",
    "              if(condition1):\n",
    "                  //statements\n",
    "              else:\n",
    "                  //statements\n",
    "           else:\n",
    "               //statements\n",
    "    - elif -> three or more\n",
    "      SYNTAX :\n",
    "          if(condition):\n",
    "              //statements\n",
    "          elif(condition1):\n",
    "              //statements\n",
    "                    .\n",
    "                    .\n",
    "                    .\n",
    "                    \n",
    "          elif(condition n):\n",
    "               //statements\n",
    "          else:\n",
    "               //statements"
   ]
  },
  {
   "cell_type": "code",
   "execution_count": null,
   "metadata": {},
   "outputs": [],
   "source": [
    "a=int(input())\n",
    "b=int(input())\n",
    "if(a==b):\n",
    "    print(\"{} and {} are equal\".format(a,b))"
   ]
  },
  {
   "cell_type": "code",
   "execution_count": null,
   "metadata": {},
   "outputs": [],
   "source": [
    "a=int(input())\n",
    "if a>=18:\n",
    "    print(\"eligible for voting\".format(a))\n",
    "    if a>18 :\n",
    "        print(\"eligible from \",(a-18),\"years\")\n",
    "    else:\n",
    "        print(\"just eligible\")\n",
    "else:\n",
    "    print(\"not eligible\")\n",
    "    print(\"still wait for \",(18-a),\"years for eligibility\")\n",
    "    "
   ]
  },
  {
   "cell_type": "markdown",
   "metadata": {},
   "source": [
    "# Userid and pin checking"
   ]
  },
  {
   "cell_type": "code",
   "execution_count": 15,
   "metadata": {},
   "outputs": [
    {
     "name": "stdout",
     "output_type": "stream",
     "text": [
      "-----Registration-----\n",
      "Enter userid to fix :453\n",
      "Enter pin to fix : 234\n",
      "----validating-----\n",
      "453\n",
      "234\n",
      "Welcome user 453!!!\n"
     ]
    }
   ],
   "source": [
    "print(\"-----Registration-----\")\n",
    "userid=int(input(\"Enter userid to fix :\"))\n",
    "pin=int(input(\"Enter pin to fix : \"))\n",
    "print(\"-----validating-----\")\n",
    "a=int(input())\n",
    "b=int(input())\n",
    "if (userid==a and pin==b) :\n",
    "    print(\"Welcome user {}!!!\".format(userid))\n",
    "else :\n",
    "    print(\"Invalid username {} or Pin\".format(a))"
   ]
  },
  {
   "cell_type": "code",
   "execution_count": 8,
   "metadata": {},
   "outputs": [
    {
     "name": "stdout",
     "output_type": "stream",
     "text": [
      "Enter userid to fix :5467\n",
      "Enter pin to fix : 798\n",
      "45\n",
      "Invalid username 45 or Pin\n"
     ]
    }
   ],
   "source": [
    "uid=int(input(\"Enter userid to fix :\"))\n",
    "pin=int(input(\"Enter pin to fix : \"))\n",
    "a=int(input())\n",
    "if uid==a:\n",
    "    print(\"enter pin\")\n",
    "    b=int(input())\n",
    "    if (b==pin):\n",
    "        print(\"Welcome user {}!!!\".format(userid))    \n",
    "    else:\n",
    "        print(\"Invalid Pin for userid {}\".format(a))\n",
    "else :\n",
    "    print(\"Invalid username {} or Pin\".format(a))"
   ]
  },
  {
   "cell_type": "code",
   "execution_count": 18,
   "metadata": {},
   "outputs": [
    {
     "name": "stdout",
     "output_type": "stream",
     "text": [
      "15\n",
      "15 is divisible by 5\n"
     ]
    }
   ],
   "source": [
    "a=int(input())\n",
    "if(a%5==0):\n",
    "        print(\"{} is divisible by 5\".format(a))\n",
    "elif a%2==0:\n",
    "    print(\"{} is divisible by 2\".format(a))\n",
    "elif a%3==0:\n",
    "    print(\"given number is {} and it is divisible by 3\".format(a))\n",
    "else:\n",
    "    print(\"given number is {} and it is not divisible by 2 now output will be {}\".format(a,float(a)))"
   ]
  },
  {
   "cell_type": "markdown",
   "metadata": {},
   "source": [
    "\n",
    "# Loops or iteration or repetition or control statements :\n",
    "\n",
    "\n",
    "        - For -> particular range\n",
    "       \n",
    "          SYNTAX :\n",
    "            range(n) ->Starting with 0 and ends with n-1\n",
    "            range(n,m) ->Starting with n and ends with m-1\n",
    "            range(n,m,s) ->Starting with n and ending with m-1 with step s\n",
    "              for itervariable in range():\n",
    "                  //statements\n",
    "          \n",
    "        - While ->particular range and infinity\n",
    "        \n",
    "          SYNTAX :\n",
    "              while condition :\n",
    "                  //statements\n",
    "                  \n",
    "                  \n",
    "                  \n",
    "              starting=0\n",
    "              while condition :\n",
    "                  //statements\n",
    "                  incr/decr\n",
    "          "
   ]
  },
  {
   "cell_type": "code",
   "execution_count": 25,
   "metadata": {},
   "outputs": [
    {
     "name": "stdout",
     "output_type": "stream",
     "text": [
      "6\n",
      "0,1,2,3,4,5"
     ]
    }
   ],
   "source": [
    "n=int(input())\n",
    "for i in range(n):\n",
    "    if(i==n-1):\n",
    "        print(i,end=\"\")\n",
    "    else:\n",
    "        print(i,end=\",\")"
   ]
  },
  {
   "cell_type": "code",
   "execution_count": null,
   "metadata": {},
   "outputs": [],
   "source": []
  }
 ],
 "metadata": {
  "kernelspec": {
   "display_name": "Python 3",
   "language": "python",
   "name": "python3"
  },
  "language_info": {
   "codemirror_mode": {
    "name": "ipython",
    "version": 3
   },
   "file_extension": ".py",
   "mimetype": "text/x-python",
   "name": "python",
   "nbconvert_exporter": "python",
   "pygments_lexer": "ipython3",
   "version": "3.7.4"
  }
 },
 "nbformat": 4,
 "nbformat_minor": 2
}
